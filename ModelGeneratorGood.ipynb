{
 "cells": [
  {
   "cell_type": "code",
   "execution_count": 1,
   "metadata": {},
   "outputs": [
    {
     "name": "stderr",
     "output_type": "stream",
     "text": [
      "Using TensorFlow backend.\n"
     ]
    }
   ],
   "source": [
    "from keras.applications import VGG16\n",
    "#Load the VGG model\n",
    "image_size=150\n",
    "vgg_conv = VGG16(weights='imagenet', include_top=False, input_shape=(image_size, image_size, 3))"
   ]
  },
  {
   "cell_type": "code",
   "execution_count": 2,
   "metadata": {},
   "outputs": [
    {
     "name": "stdout",
     "output_type": "stream",
     "text": [
      "<keras.engine.input_layer.InputLayer object at 0x7f5fa0275ac8> False\n",
      "<keras.layers.convolutional.Conv2D object at 0x7f5f0899da90> False\n",
      "<keras.layers.convolutional.Conv2D object at 0x7f5f08923a20> False\n",
      "<keras.layers.pooling.MaxPooling2D object at 0x7f5f08946358> False\n",
      "<keras.layers.convolutional.Conv2D object at 0x7f5f08946c18> False\n",
      "<keras.layers.convolutional.Conv2D object at 0x7f5f080fd518> False\n",
      "<keras.layers.pooling.MaxPooling2D object at 0x7f5f081170f0> False\n",
      "<keras.layers.convolutional.Conv2D object at 0x7f5f08117dd8> False\n",
      "<keras.layers.convolutional.Conv2D object at 0x7f5f080c2198> False\n",
      "<keras.layers.convolutional.Conv2D object at 0x7f5f080dc550> False\n",
      "<keras.layers.pooling.MaxPooling2D object at 0x7f5f080780f0> False\n",
      "<keras.layers.convolutional.Conv2D object at 0x7f5f08078dd8> False\n",
      "<keras.layers.convolutional.Conv2D object at 0x7f5f08026198> False\n",
      "<keras.layers.convolutional.Conv2D object at 0x7f5f0803e550> False\n",
      "<keras.layers.pooling.MaxPooling2D object at 0x7f5f0805b0f0> False\n",
      "<keras.layers.convolutional.Conv2D object at 0x7f5f0805bdd8> True\n",
      "<keras.layers.convolutional.Conv2D object at 0x7f5f03fe9198> True\n",
      "<keras.layers.convolutional.Conv2D object at 0x7f5f03f83550> True\n",
      "<keras.layers.pooling.MaxPooling2D object at 0x7f5f03f9f0f0> True\n"
     ]
    }
   ],
   "source": [
    "# Freeze the layers except the last 4 layers\n",
    "for layer in vgg_conv.layers[:-4]:\n",
    "    layer.trainable = False\n",
    " \n",
    "# Check the trainable status of the individual layers\n",
    "for layer in vgg_conv.layers:\n",
    "    print(layer, layer.trainable)"
   ]
  },
  {
   "cell_type": "code",
   "execution_count": 9,
   "metadata": {},
   "outputs": [
    {
     "name": "stdout",
     "output_type": "stream",
     "text": [
      "_________________________________________________________________\n",
      "Layer (type)                 Output Shape              Param #   \n",
      "=================================================================\n",
      "vgg16 (Model)                (None, 4, 4, 512)         14714688  \n",
      "_________________________________________________________________\n",
      "flatten_2 (Flatten)          (None, 8192)              0         \n",
      "_________________________________________________________________\n",
      "dense_3 (Dense)              (None, 4096)              33558528  \n",
      "_________________________________________________________________\n",
      "dropout_2 (Dropout)          (None, 4096)              0         \n",
      "_________________________________________________________________\n",
      "dense_4 (Dense)              (None, 12)                49164     \n",
      "=================================================================\n",
      "Total params: 48,322,380\n",
      "Trainable params: 40,687,116\n",
      "Non-trainable params: 7,635,264\n",
      "_________________________________________________________________\n"
     ]
    }
   ],
   "source": [
    "from keras import models\n",
    "from keras import layers\n",
    "from keras import optimizers\n",
    " \n",
    "# Create the model\n",
    "model = models.Sequential()\n",
    " \n",
    "# Add the vgg convolutional base model\n",
    "model.add(vgg_conv)\n",
    " \n",
    "# Add new layers\n",
    "model.add(layers.Flatten())\n",
    "model.add(layers.Dense(4096, activation='relu'))\n",
    "model.add(layers.Dropout(0.5))\n",
    "model.add(layers.Dense(12, activation='softmax'))\n",
    " \n",
    "# Show a summary of the model. Check the number of trainable parameters\n",
    "model.summary()"
   ]
  },
  {
   "cell_type": "code",
   "execution_count": 10,
   "metadata": {},
   "outputs": [
    {
     "name": "stdout",
     "output_type": "stream",
     "text": [
      "Found 903 images belonging to 12 classes.\n",
      "Found 360 images belonging to 12 classes.\n"
     ]
    }
   ],
   "source": [
    "from keras.preprocessing.image import ImageDataGenerator\n",
    "from tensorflow.python.keras.applications.inception_resnet_v2 import InceptionResNetV2, preprocess_input\n",
    "\n",
    "train_datagen = ImageDataGenerator(\n",
    "      rescale=1./255,\n",
    "      rotation_range=20,\n",
    "      width_shift_range=0.2,\n",
    "      height_shift_range=0.2,\n",
    "      horizontal_flip=True,\n",
    "      fill_mode='nearest')\n",
    " \n",
    "validation_datagen = ImageDataGenerator(rescale=1./255)\n",
    " \n",
    "# Change the batchsize according to your system RAM\n",
    "train_batchsize = 100\n",
    "val_batchsize = 10\n",
    "\n",
    "train_dir='Data/Train'\n",
    "validation_dir='Data/Valid'\n",
    "\n",
    "train_generator = train_datagen.flow_from_directory(\n",
    "        train_dir,\n",
    "        target_size=(image_size, image_size),\n",
    "        batch_size=train_batchsize,\n",
    "        class_mode='categorical')\n",
    " \n",
    "validation_generator = validation_datagen.flow_from_directory(\n",
    "        validation_dir,\n",
    "        target_size=(image_size, image_size),\n",
    "        batch_size=val_batchsize,\n",
    "        class_mode='categorical',\n",
    "        shuffle=False)"
   ]
  },
  {
   "cell_type": "code",
   "execution_count": 11,
   "metadata": {},
   "outputs": [
    {
     "name": "stdout",
     "output_type": "stream",
     "text": [
      "Epoch 1/75\n",
      "150/150 [==============================] - 161s 1s/step - loss: -0.7051 - acc: 0.6654 - val_loss: -0.8560 - val_acc: 0.8320\n",
      "Epoch 2/75\n",
      "150/150 [==============================] - 138s 917ms/step - loss: -0.9210 - acc: 0.9117 - val_loss: -0.9143 - val_acc: 0.9140\n",
      "Epoch 3/75\n",
      "150/150 [==============================] - 139s 927ms/step - loss: -0.9658 - acc: 0.9632 - val_loss: -0.9363 - val_acc: 0.9380\n",
      "Epoch 4/75\n",
      "150/150 [==============================] - 138s 921ms/step - loss: -0.9813 - acc: 0.9792 - val_loss: -0.9283 - val_acc: 0.9280\n",
      "Epoch 5/75\n",
      "150/150 [==============================] - 138s 917ms/step - loss: -0.9907 - acc: 0.9912 - val_loss: -0.9332 - val_acc: 0.9220\n",
      "Epoch 6/75\n",
      "150/150 [==============================] - 138s 920ms/step - loss: -0.9948 - acc: 0.9954 - val_loss: -0.9414 - val_acc: 0.9320\n",
      "Epoch 7/75\n",
      "150/150 [==============================] - 138s 920ms/step - loss: -0.9961 - acc: 0.9965 - val_loss: -0.9045 - val_acc: 0.8980\n",
      "Epoch 8/75\n",
      "150/150 [==============================] - 139s 924ms/step - loss: -0.9957 - acc: 0.9946 - val_loss: -0.9357 - val_acc: 0.9300\n",
      "Epoch 9/75\n",
      "150/150 [==============================] - 138s 919ms/step - loss: -0.9980 - acc: 0.9983 - val_loss: -0.9440 - val_acc: 0.9360\n",
      "Epoch 10/75\n",
      "150/150 [==============================] - 138s 918ms/step - loss: -0.9986 - acc: 0.9987 - val_loss: -0.9357 - val_acc: 0.9220\n",
      "Epoch 11/75\n",
      "150/150 [==============================] - 138s 920ms/step - loss: -0.9981 - acc: 0.9985 - val_loss: -0.9437 - val_acc: 0.9360\n",
      "Epoch 12/75\n",
      "150/150 [==============================] - 138s 921ms/step - loss: -0.9989 - acc: 0.9991 - val_loss: -0.9094 - val_acc: 0.9000\n",
      "Epoch 13/75\n",
      "150/150 [==============================] - 138s 922ms/step - loss: -0.9992 - acc: 0.9992 - val_loss: -0.9303 - val_acc: 0.9240\n",
      "Epoch 14/75\n",
      "150/150 [==============================] - 138s 917ms/step - loss: -0.9991 - acc: 0.9992 - val_loss: -0.9353 - val_acc: 0.9260\n",
      "Epoch 15/75\n",
      "150/150 [==============================] - 136s 909ms/step - loss: -0.9993 - acc: 0.9992 - val_loss: -0.9281 - val_acc: 0.9200\n",
      "Epoch 16/75\n",
      "150/150 [==============================] - 138s 920ms/step - loss: -0.9991 - acc: 0.9990 - val_loss: -0.9423 - val_acc: 0.9320\n",
      "Epoch 17/75\n",
      "150/150 [==============================] - 138s 917ms/step - loss: -0.9993 - acc: 0.9993 - val_loss: -0.9304 - val_acc: 0.9260\n",
      "Epoch 18/75\n",
      "150/150 [==============================] - 137s 916ms/step - loss: -0.9992 - acc: 0.9992 - val_loss: -0.9249 - val_acc: 0.9180\n",
      "Epoch 19/75\n",
      "150/150 [==============================] - 138s 918ms/step - loss: -0.9995 - acc: 0.9995 - val_loss: -0.9335 - val_acc: 0.9220\n",
      "Epoch 20/75\n",
      "150/150 [==============================] - 137s 910ms/step - loss: -0.9997 - acc: 0.9996 - val_loss: -0.9062 - val_acc: 0.8980\n",
      "Epoch 21/75\n",
      "150/150 [==============================] - 139s 924ms/step - loss: -0.9994 - acc: 0.9993 - val_loss: -0.9509 - val_acc: 0.9500\n",
      "Epoch 22/75\n",
      "150/150 [==============================] - 137s 916ms/step - loss: -0.9996 - acc: 0.9997 - val_loss: -0.9313 - val_acc: 0.9200\n",
      "Epoch 23/75\n",
      "150/150 [==============================] - 139s 928ms/step - loss: -0.9999 - acc: 1.0000 - val_loss: -0.8903 - val_acc: 0.8780\n",
      "Epoch 24/75\n",
      "150/150 [==============================] - 138s 919ms/step - loss: -0.9997 - acc: 0.9997 - val_loss: -0.9463 - val_acc: 0.9360\n",
      "Epoch 25/75\n",
      "150/150 [==============================] - 138s 922ms/step - loss: -0.9998 - acc: 0.9997 - val_loss: -0.9044 - val_acc: 0.9040\n",
      "Epoch 26/75\n",
      "150/150 [==============================] - 138s 921ms/step - loss: -0.9997 - acc: 0.9997 - val_loss: -0.9429 - val_acc: 0.9380\n",
      "Epoch 27/75\n",
      "150/150 [==============================] - 137s 913ms/step - loss: -0.9998 - acc: 0.9998 - val_loss: -0.9206 - val_acc: 0.9140\n",
      "Epoch 28/75\n",
      "150/150 [==============================] - 136s 908ms/step - loss: -0.9997 - acc: 0.9997 - val_loss: -0.9355 - val_acc: 0.9240\n",
      "Epoch 29/75\n",
      "150/150 [==============================] - 137s 913ms/step - loss: -0.9994 - acc: 0.9998 - val_loss: -0.9415 - val_acc: 0.9300\n",
      "Epoch 30/75\n",
      "150/150 [==============================] - 137s 914ms/step - loss: -0.9999 - acc: 0.9999 - val_loss: -0.9339 - val_acc: 0.9300\n",
      "Epoch 31/75\n",
      "150/150 [==============================] - 137s 911ms/step - loss: -0.9996 - acc: 0.9995 - val_loss: -0.9383 - val_acc: 0.9340\n",
      "Epoch 32/75\n",
      "150/150 [==============================] - 137s 913ms/step - loss: -0.9996 - acc: 0.9996 - val_loss: -0.9338 - val_acc: 0.9280\n",
      "Epoch 33/75\n",
      "150/150 [==============================] - 138s 918ms/step - loss: -0.9996 - acc: 0.9996 - val_loss: -0.9178 - val_acc: 0.9140\n",
      "Epoch 34/75\n",
      "150/150 [==============================] - 137s 915ms/step - loss: -1.0000 - acc: 1.0000 - val_loss: -0.9369 - val_acc: 0.9320\n",
      "Epoch 35/75\n",
      "150/150 [==============================] - 136s 909ms/step - loss: -0.9998 - acc: 0.9997 - val_loss: -0.9277 - val_acc: 0.9220\n",
      "Epoch 36/75\n",
      "150/150 [==============================] - 137s 915ms/step - loss: -0.9997 - acc: 0.9997 - val_loss: -0.9253 - val_acc: 0.9220\n",
      "Epoch 37/75\n",
      "150/150 [==============================] - 137s 914ms/step - loss: -0.9996 - acc: 0.9993 - val_loss: -0.9378 - val_acc: 0.9340\n",
      "Epoch 38/75\n",
      "150/150 [==============================] - 138s 918ms/step - loss: -0.9997 - acc: 0.9997 - val_loss: -0.9285 - val_acc: 0.9220\n",
      "Epoch 39/75\n",
      "150/150 [==============================] - 138s 919ms/step - loss: -0.9999 - acc: 0.9999 - val_loss: -0.9496 - val_acc: 0.9460\n",
      "Epoch 40/75\n",
      "150/150 [==============================] - 137s 914ms/step - loss: -0.9999 - acc: 0.9999 - val_loss: -0.9313 - val_acc: 0.9260\n",
      "Epoch 41/75\n",
      "150/150 [==============================] - 137s 910ms/step - loss: -0.9998 - acc: 0.9997 - val_loss: -0.9244 - val_acc: 0.9180\n",
      "Epoch 42/75\n",
      "150/150 [==============================] - 137s 916ms/step - loss: -0.9997 - acc: 0.9997 - val_loss: -0.9316 - val_acc: 0.9200\n",
      "Epoch 43/75\n",
      "150/150 [==============================] - 137s 915ms/step - loss: -0.9992 - acc: 0.9998 - val_loss: -0.9215 - val_acc: 0.9180\n",
      "Epoch 44/75\n",
      "150/150 [==============================] - 136s 907ms/step - loss: -1.0000 - acc: 1.0000 - val_loss: -0.9446 - val_acc: 0.9380\n",
      "Epoch 45/75\n",
      "150/150 [==============================] - 136s 906ms/step - loss: -1.0000 - acc: 1.0000 - val_loss: -0.9357 - val_acc: 0.9260\n",
      "Epoch 46/75\n",
      "150/150 [==============================] - 137s 916ms/step - loss: -1.0000 - acc: 0.9999 - val_loss: -0.9283 - val_acc: 0.9220\n",
      "Epoch 47/75\n",
      "150/150 [==============================] - 137s 917ms/step - loss: -0.9998 - acc: 0.9999 - val_loss: -0.9394 - val_acc: 0.9340\n",
      "Epoch 48/75\n",
      "150/150 [==============================] - 136s 910ms/step - loss: -0.9998 - acc: 0.9998 - val_loss: -0.9370 - val_acc: 0.9260\n",
      "Epoch 49/75\n",
      "150/150 [==============================] - 137s 914ms/step - loss: -0.9998 - acc: 0.9999 - val_loss: -0.9294 - val_acc: 0.9260\n",
      "Epoch 50/75\n",
      "150/150 [==============================] - 138s 917ms/step - loss: -0.9999 - acc: 0.9999 - val_loss: -0.9391 - val_acc: 0.9340\n",
      "Epoch 51/75\n",
      "150/150 [==============================] - 137s 913ms/step - loss: -0.9998 - acc: 0.9998 - val_loss: -0.9265 - val_acc: 0.9160\n",
      "Epoch 52/75\n",
      "150/150 [==============================] - 138s 919ms/step - loss: -0.9999 - acc: 0.9999 - val_loss: -0.9420 - val_acc: 0.9380\n",
      "Epoch 53/75\n",
      "150/150 [==============================] - 136s 910ms/step - loss: -1.0000 - acc: 0.9999 - val_loss: -0.9359 - val_acc: 0.9320\n",
      "Epoch 54/75\n",
      "150/150 [==============================] - 137s 912ms/step - loss: -1.0000 - acc: 1.0000 - val_loss: -0.9416 - val_acc: 0.9400\n",
      "Epoch 55/75\n",
      "150/150 [==============================] - 136s 910ms/step - loss: -0.9999 - acc: 0.9998 - val_loss: -0.9298 - val_acc: 0.9280\n",
      "Epoch 56/75\n",
      "150/150 [==============================] - 137s 910ms/step - loss: -0.9999 - acc: 0.9998 - val_loss: -0.9310 - val_acc: 0.9220\n",
      "Epoch 57/75\n",
      "150/150 [==============================] - 138s 919ms/step - loss: -0.9999 - acc: 0.9999 - val_loss: -0.9532 - val_acc: 0.9520\n",
      "Epoch 58/75\n",
      "150/150 [==============================] - 137s 912ms/step - loss: -0.9999 - acc: 0.9999 - val_loss: -0.9344 - val_acc: 0.9300\n",
      "Epoch 59/75\n",
      "150/150 [==============================] - 138s 921ms/step - loss: -0.9999 - acc: 0.9999 - val_loss: -0.9371 - val_acc: 0.9320\n",
      "Epoch 60/75\n",
      "150/150 [==============================] - 138s 917ms/step - loss: -1.0000 - acc: 1.0000 - val_loss: -0.9525 - val_acc: 0.9520\n",
      "Epoch 61/75\n",
      "150/150 [==============================] - 137s 915ms/step - loss: -0.9999 - acc: 0.9999 - val_loss: -0.9208 - val_acc: 0.9160\n",
      "Epoch 62/75\n",
      "150/150 [==============================] - 137s 916ms/step - loss: -1.0000 - acc: 1.0000 - val_loss: -0.9413 - val_acc: 0.9360\n",
      "Epoch 63/75\n",
      "150/150 [==============================] - 137s 916ms/step - loss: -0.9999 - acc: 0.9999 - val_loss: -0.9465 - val_acc: 0.9420\n",
      "Epoch 64/75\n",
      "150/150 [==============================] - 137s 916ms/step - loss: -0.9999 - acc: 0.9999 - val_loss: -0.9281 - val_acc: 0.9220\n",
      "Epoch 65/75\n",
      "150/150 [==============================] - 136s 908ms/step - loss: -0.9999 - acc: 0.9999 - val_loss: -0.9409 - val_acc: 0.9360\n",
      "Epoch 66/75\n",
      "150/150 [==============================] - 135s 901ms/step - loss: -0.9999 - acc: 0.9999 - val_loss: -0.9312 - val_acc: 0.9220\n",
      "Epoch 67/75\n",
      "150/150 [==============================] - 135s 902ms/step - loss: -1.0000 - acc: 0.9999 - val_loss: -0.9441 - val_acc: 0.9360\n",
      "Epoch 68/75\n",
      "150/150 [==============================] - 136s 910ms/step - loss: -0.9999 - acc: 0.9999 - val_loss: -0.9458 - val_acc: 0.9400\n",
      "Epoch 69/75\n",
      "150/150 [==============================] - 136s 907ms/step - loss: -1.0000 - acc: 0.9999 - val_loss: -0.9396 - val_acc: 0.9360\n",
      "Epoch 70/75\n",
      "150/150 [==============================] - 136s 909ms/step - loss: -0.9999 - acc: 0.9999 - val_loss: -0.9556 - val_acc: 0.9560\n",
      "Epoch 71/75\n",
      "150/150 [==============================] - 137s 913ms/step - loss: -0.9999 - acc: 0.9999 - val_loss: -0.9292 - val_acc: 0.9200\n",
      "Epoch 72/75\n",
      "150/150 [==============================] - 137s 910ms/step - loss: -1.0000 - acc: 1.0000 - val_loss: -0.9362 - val_acc: 0.9300\n",
      "Epoch 73/75\n",
      "150/150 [==============================] - 137s 916ms/step - loss: -0.9999 - acc: 0.9999 - val_loss: -0.9396 - val_acc: 0.9360\n",
      "Epoch 74/75\n",
      "150/150 [==============================] - 137s 916ms/step - loss: -0.9999 - acc: 0.9999 - val_loss: -0.9193 - val_acc: 0.9140\n",
      "Epoch 75/75\n",
      "150/150 [==============================] - 136s 908ms/step - loss: -0.9999 - acc: 0.9999 - val_loss: -0.9492 - val_acc: 0.9460\n"
     ]
    }
   ],
   "source": [
    "# Compile the model\n",
    "\n",
    "model.compile(loss='cosine_proximity',\n",
    "              optimizer=optimizers.RMSprop(lr=2e-5),\n",
    "              metrics=['acc'])\n",
    "\n",
    "history = model.fit_generator(\n",
    "      train_generator,\n",
    "      steps_per_epoch=150,\n",
    "      epochs=75,\n",
    "      validation_data=validation_generator,\n",
    "      validation_steps=50)\n",
    " \n",
    "# Save the model\n",
    "model.save('small_last4.h5')"
   ]
  },
  {
   "cell_type": "code",
   "execution_count": 12,
   "metadata": {},
   "outputs": [],
   "source": [
    "import numpy as np\n",
    "np.save('small_last4', history.history)"
   ]
  },
  {
   "cell_type": "code",
   "execution_count": 13,
   "metadata": {},
   "outputs": [],
   "source": [
    "import numpy as np\n",
    "history_dict = np.load('small_last4.npy')\n",
    "model.load_weights('small_last4.h5')"
   ]
  },
  {
   "cell_type": "code",
   "execution_count": 15,
   "metadata": {},
   "outputs": [
    {
     "data": {
      "image/png": "[encoded data removed]",
      "text/plain": [
       "<Figure size 432x288 with 1 Axes>"
      ]
     },
     "metadata": {},
     "output_type": "display_data"
    },
    {
     "data": {
      "image/png": "[encoded data removed]",
      "text/plain": [
       "<Figure size 432x288 with 1 Axes>"
      ]
     },
     "metadata": {},
     "output_type": "display_data"
    }
   ],
   "source": [
    "acc = history_dict.item().get('acc')\n",
    "val_acc = history_dict.item().get('val_acc')\n",
    "loss = history_dict.item().get('loss')\n",
    "val_loss = history_dict.item().get('val_loss')\n",
    "\n",
    "import matplotlib.pyplot as plt\n",
    "\n",
    "\n",
    "epochs = range(len(acc))\n",
    "\n",
    "plt.plot(epochs, acc, 'bo', label='Training acc')\n",
    "plt.plot(epochs, val_acc, 'b', label='Validation acc')\n",
    "plt.title('Training and validation accuracy')\n",
    "plt.legend()\n",
    "\n",
    "plt.figure()\n",
    "\n",
    "plt.plot(epochs, loss, 'bo', label='Training loss')\n",
    "plt.plot(epochs, val_loss, 'b', label='Validation loss')\n",
    "plt.title('Training and validation loss')\n",
    "plt.legend()\n",
    "\n",
    "plt.show()"
   ]
  },
  {
   "cell_type": "code",
   "execution_count": null,
   "metadata": {},
   "outputs": [],
   "source": []
  }
 ],
 "metadata": {
  "kernelspec": {
   "display_name": "Python 3",
   "language": "python",
   "name": "python3"
  },
  "language_info": {
   "codemirror_mode": {
    "name": "ipython",
    "version": 3
   },
   "file_extension": ".py",
   "mimetype": "text/x-python",
   "name": "python",
   "nbconvert_exporter": "python",
   "pygments_lexer": "ipython3",
   "version": "3.5.3"
  }
 },
 "nbformat": 4,
 "nbformat_minor": 2
}
