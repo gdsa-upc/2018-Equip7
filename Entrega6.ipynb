{
 "cells": [
  {
   "cell_type": "code",
   "execution_count": 16,
   "metadata": {},
   "outputs": [],
   "source": [
    "import numpy as np\n",
    "import os\n",
    "import pickle\n",
    "import matplotlib.pyplot as plt\n",
    "\n",
    "dtrain = {}\n",
    "with open(\"Fotos/train/annotation.txt\") as f:\n",
    "    for line in f:\n",
    "       (key, val) = line.split()\n",
    "       dtrain[key] = val\n",
    "#Fotos/test/annotation.txt\n",
    "dtrain.pop('ImageID')\n",
    "dtrainf = {}\n",
    "dtrainnoms = {}\n",
    "\n",
    "path='Fotos'\n",
    "for(path,dirs,files) in os.walk(path):\n",
    "    if path == 'Fotos/train/images': \n",
    "        for i in range(0,len(files)):\n",
    "            nomf = str(files[i])\n",
    "            lloc = nomf.find('.')\n",
    "            nomf = nomf[0:lloc]\n",
    "            dtrainf[i]=dtrain[nomf]"
   ]
  },
  {
   "cell_type": "code",
   "execution_count": 17,
   "metadata": {},
   "outputs": [],
   "source": [
    "dval = {}\n",
    "with open(\"Fotos/val/annotation.txt\") as f:\n",
    "    for line in f:\n",
    "       (key2, val2) = line.split()\n",
    "       dval[key2] = val2\n",
    "dval.pop('ImageID')\n",
    "dvalf = {}\n",
    "dvalnoms = {}\n",
    "\n",
    "path2='Fotos'\n",
    "for(path2,dirs2,files2) in os.walk(path2):\n",
    "    if path2 == 'Fotos/val/images': \n",
    "        for i in range(0,len(files2)):\n",
    "            nomf2 = str(files2[i])\n",
    "            lloc2 = nomf2.find('.')\n",
    "            nomf2 = nomf2[0:lloc2]\n",
    "            dvalf[i]=dval[nomf2]"
   ]
  },
  {
   "cell_type": "code",
   "execution_count": 18,
   "metadata": {},
   "outputs": [],
   "source": [
    "pickle_in_ranks = open(\"ranksdense.pickle\",\"rb\")\n",
    "ranks = pickle.load(pickle_in_ranks)"
   ]
  },
  {
   "cell_type": "code",
   "execution_count": 19,
   "metadata": {},
   "outputs": [
    {
     "data": {
      "text/plain": [
       "1.0"
      ]
     },
     "execution_count": 19,
     "metadata": {},
     "output_type": "execute_result"
    }
   ],
   "source": [
    "#Precisió\n",
    "\n",
    "def precisio(offset, numb):\n",
    "\n",
    "    contpr = 0\n",
    "    ranks_q = ranks[offset,:]\n",
    "\n",
    "    for j in range(0,numb):\n",
    "        if(dvalf[offset]=='desconegut'):\n",
    "            print(\"Aquest es un distractor\")\n",
    "            break\n",
    "        elif(dvalf[offset]==dtrainf[ranks_q[j]]):\n",
    "            contpr+=1\n",
    "        #print(dtrainf[ranks_q[j]])\n",
    "\n",
    "    return contpr/numb;\n",
    "\n",
    "precisio(0,15)"
   ]
  },
  {
   "cell_type": "code",
   "execution_count": 20,
   "metadata": {},
   "outputs": [
    {
     "data": {
      "text/plain": [
       "0.6486486486486487"
      ]
     },
     "execution_count": 20,
     "metadata": {},
     "output_type": "execute_result"
    }
   ],
   "source": [
    "#Recall\n",
    "\n",
    "def recall(offset):\n",
    "    numrell = 0\n",
    "    contre = 0\n",
    "    ranks_q = ranks[offset,:]\n",
    "\n",
    "    for t in range(0, len(dtrainf)):\n",
    "        if(dvalf[offset]==dtrainf[t]):\n",
    "            numrell+=1\n",
    "\n",
    "    for j in range(0,numrell):\n",
    "        if(dvalf[offset]=='desconegut'):\n",
    "            print(\"Aquest es un distractor\")\n",
    "            break\n",
    "        elif(dvalf[offset]==dtrainf[ranks_q[j]]):\n",
    "            contre+=1\n",
    "        #print(dtrainf[ranks_q[j]])\n",
    "\n",
    "    return contre/numrell\n",
    "\n",
    "recall(4)"
   ]
  },
  {
   "cell_type": "code",
   "execution_count": 21,
   "metadata": {},
   "outputs": [
    {
     "data": {
      "image/png": "[encoded data removed]",
      "text/plain": [
       "<Figure size 432x288 with 1 Axes>"
      ]
     },
     "metadata": {},
     "output_type": "display_data"
    }
   ],
   "source": [
    "from math import *\n",
    "from numpy import *\n",
    "from pylab import *\n",
    "\n",
    "offset = 0\n",
    "\n",
    "prec = []\n",
    "reca = []\n",
    "contfin = 0\n",
    "busqueda = 0\n",
    "ranks_q = ranks[offset,:]\n",
    "\n",
    "for t in range(0, len(dtrainf)):\n",
    "        if(dvalf[offset]==dtrainf[t]):\n",
    "            busqueda+=1\n",
    "            \n",
    "for n in range(0, busqueda):\n",
    "    if(dvalf[offset]==dtrainf[ranks_q[n]]):\n",
    "            contfin+=1\n",
    "    prec.append(contfin/(n+1))\n",
    "    reca.append(contfin/busqueda)\n",
    "\n",
    "p1 = plot(reca, prec)\n",
    "\n",
    "grid()\n",
    "title('Precision-Recall')\n",
    "xlabel('Recall')\n",
    "ylabel('Precision')\n",
    "\n",
    "show()"
   ]
  },
  {
   "cell_type": "code",
   "execution_count": 22,
   "metadata": {},
   "outputs": [
    {
     "data": {
      "text/plain": [
       "0.5814849709623935"
      ]
     },
     "execution_count": 22,
     "metadata": {},
     "output_type": "execute_result"
    }
   ],
   "source": [
    "#Calcul AP\n",
    "def AP(offset):\n",
    "    contrell = 0\n",
    "    precont = 0\n",
    "    numrell = 0\n",
    "    ranks_q = ranks[offset,:]\n",
    "    \n",
    "    for t in range(0, len(dtrainf)):\n",
    "        if(dvalf[offset]==dtrainf[t]):\n",
    "            numrell+=1\n",
    "\n",
    "    for j in range(0,numrell):\n",
    "        if(dvalf[offset]==dtrainf[ranks_q[j]]):\n",
    "            contrell+=1\n",
    "            precont+=contrell/(j+1)\n",
    "\n",
    "    return precont/numrell\n",
    "\n",
    "AP(4)"
   ]
  },
  {
   "cell_type": "code",
   "execution_count": 23,
   "metadata": {},
   "outputs": [
    {
     "name": "stdout",
     "output_type": "stream",
     "text": [
      "0.3915344743654898\n"
     ]
    }
   ],
   "source": [
    "#Calcul MAP\n",
    "contmap = 0\n",
    "numcons = 0\n",
    "\n",
    "for d in range(0, len(dvalf)):\n",
    "    if(dvalf[d]!='desconegut'):\n",
    "        contmap+=AP(d)\n",
    "        numcons+=1\n",
    "\n",
    "MAP = contmap/numcons\n",
    "print(MAP)"
   ]
  },
  {
   "cell_type": "code",
   "execution_count": 24,
   "metadata": {},
   "outputs": [
    {
     "data": {
      "text/plain": [
       "477"
      ]
     },
     "execution_count": 24,
     "metadata": {},
     "output_type": "execute_result"
    }
   ],
   "source": [
    "len(dvalf)"
   ]
  },
  {
   "cell_type": "code",
   "execution_count": 25,
   "metadata": {},
   "outputs": [
    {
     "name": "stdout",
     "output_type": "stream",
     "text": [
      "0.4631604306256113\n"
     ]
    }
   ],
   "source": [
    "#Calcul accuracy total\n",
    "\n",
    "acc = 0;\n",
    "contac = 0;\n",
    "\n",
    "for q in range(0, len(dvalf)):\n",
    "    if(dvalf[q]!='desconegut'):\n",
    "        acc+=recall(q)\n",
    "        contac+=1\n",
    "\n",
    "accuracy = acc/contac\n",
    "print(accuracy)"
   ]
  },
  {
   "cell_type": "code",
   "execution_count": 26,
   "metadata": {},
   "outputs": [],
   "source": [
    "import pickle\n",
    "\n",
    "#tutorial: https://www.youtube.com/watch?v=2Tw39kZIbhs\n",
    "\n",
    "pickle_in_val = open(\"valfoto.pickle\",\"rb\")\n",
    "valfoto = pickle.load(pickle_in_val)\n",
    "\n",
    "pickle_in_train = open(\"trainfoto.pickle\",\"rb\")\n",
    "trainfoto = pickle.load(pickle_in_train)"
   ]
  },
  {
   "cell_type": "code",
   "execution_count": 27,
   "metadata": {},
   "outputs": [
    {
     "name": "stdout",
     "output_type": "stream",
     "text": [
      "farmacia_albinyana\n"
     ]
    },
    {
     "data": {
      "image/png": "[encoded data removed]",
      "text/plain": [
       "<Figure size 432x288 with 1 Axes>"
      ]
     },
     "metadata": {},
     "output_type": "display_data"
    }
   ],
   "source": [
    "from PIL import Image, ImageOps\n",
    "\n",
    "# get the original images for visualization\n",
    "x_train_images = trainfoto\n",
    "x_val_images = valfoto\n",
    "\n",
    "h,w = (224+30, 224+30)\n",
    "new_image= Image.new('RGB', (h*15,w))\n",
    "\n",
    "# Visualize ranks of the 10 queries\n",
    "offset = 0 # it will show results from query #'offset' to #offset+10\n",
    "ranks_q = ranks[offset,:]\n",
    "print(dvalf[offset])\n",
    "ima_q = Image.fromarray(x_val_images[offset])\n",
    "ima_q = ImageOps.expand(ima_q, border=15, fill='blue')\n",
    "new_image.paste(ima_q, (0,0))\n",
    "\n",
    "new_image.paste( Image.fromarray(x_train_images[ranks_q[0]]), (h*(2),0))\n",
    "\n",
    "for b in range(0,14):\n",
    "    if(dvalf[offset]==dtrainf[ranks_q[b]]):\n",
    "        ima_q = Image.fromarray(x_train_images[ranks_q[b]])\n",
    "        ima_q = ImageOps.expand(ima_q, border=15, fill='green')\n",
    "        new_image.paste(ima_q, (h*(b+1),0))\n",
    "    else:\n",
    "        ima_q = Image.fromarray(x_train_images[ranks_q[b]])\n",
    "        ima_q = ImageOps.expand(ima_q, border=15, fill='red')\n",
    "        new_image.paste(ima_q, (h*(b+1),0))\n",
    "\n",
    "plt.imshow(new_image)\n",
    "plt.axis('off')\n",
    "plt.show()\n",
    "new_image.save('Cercaindiv.jpg')"
   ]
  },
  {
   "cell_type": "code",
   "execution_count": 28,
   "metadata": {},
   "outputs": [],
   "source": [
    "def creadict():\n",
    "    dcrea ={}\n",
    "    dcrea[\"catedral\"]=0\n",
    "    dcrea[\"escola_enginyeria\"]=0\n",
    "    dcrea[\"estacio_nord\"]=0\n",
    "    dcrea[\"dona_treballadora\"]=0\n",
    "    dcrea[\"mnactec\"]=0\n",
    "    dcrea[\"castell_cartoixa\"]=0\n",
    "    dcrea[\"teatre_principal\"]=0\n",
    "    dcrea[\"ajuntament\"]=0\n",
    "    dcrea[\"masia_freixa\"]=0\n",
    "    dcrea[\"mercat_independencia\"]=0\n",
    "    dcrea[\"farmacia_albinyana\"]=0\n",
    "    dcrea[\"societat_general\"]=0\n",
    "    dcrea[\"desconegut\"]=0\n",
    "    return dcrea"
   ]
  },
  {
   "cell_type": "code",
   "execution_count": 29,
   "metadata": {},
   "outputs": [],
   "source": [
    "dtot ={}\n",
    "dtot[\"catedral\"]={}\n",
    "dtot[\"escola_enginyeria\"]={}\n",
    "dtot[\"estacio_nord\"]={}\n",
    "dtot[\"dona_treballadora\"]={}\n",
    "dtot[\"mnactec\"]={}\n",
    "dtot[\"castell_cartoixa\"]={}\n",
    "dtot[\"teatre_principal\"]={}\n",
    "dtot[\"ajuntament\"]={}\n",
    "dtot[\"masia_freixa\"]={}\n",
    "dtot[\"mercat_independencia\"]={}\n",
    "dtot[\"farmacia_albinyana\"]={}\n",
    "dtot[\"societat_general\"]={}\n",
    "for key, value in dtot.items():\n",
    "    dtot[key]=creadict()"
   ]
  },
  {
   "cell_type": "code",
   "execution_count": 31,
   "metadata": {},
   "outputs": [],
   "source": [
    "for w in range(0,len(dvalf)):\n",
    "    if dvalf[w]!=\"desconegut\":\n",
    "        dtot[dvalf[w]][dtrainf[ranks[w][0]]]+=1"
   ]
  },
  {
   "cell_type": "code",
   "execution_count": 32,
   "metadata": {},
   "outputs": [],
   "source": [
    "w, h = 14, 13;\n",
    "Matrix = [[0 for x in range(w)] for y in range(h)]\n",
    "\n",
    "contx = 1\n",
    "conty = 1\n",
    "\n",
    "\n",
    "for key,values in sorted(dtot.items()):\n",
    "    for key2, values2 in sorted(dtot[key].items()):\n",
    "        Matrix[contx][conty]=values2\n",
    "        conty+=1\n",
    "    conty=1\n",
    "    contx+=1\n",
    "    \n",
    "contx = 1\n",
    "conty = 1\n",
    "\n",
    "prova = creadict()\n",
    "\n",
    "for key,values in sorted(prova.items()):\n",
    "    Matrix[0][conty]=key\n",
    "    conty+=1\n",
    "\n",
    "for key,values in sorted(dtot.items()):\n",
    "    Matrix[contx][0]=key\n",
    "    contx+=1\n",
    "    \n",
    "Matrix[0][0]='Matriz de Conf.'"
   ]
  },
  {
   "cell_type": "code",
   "execution_count": 33,
   "metadata": {},
   "outputs": [
    {
     "data": {
      "text/plain": [
       "[['Matriz de Conf.',\n",
       "  'ajuntament',\n",
       "  'castell_cartoixa',\n",
       "  'catedral',\n",
       "  'desconegut',\n",
       "  'dona_treballadora',\n",
       "  'escola_enginyeria',\n",
       "  'estacio_nord',\n",
       "  'farmacia_albinyana',\n",
       "  'masia_freixa',\n",
       "  'mercat_independencia',\n",
       "  'mnactec',\n",
       "  'societat_general',\n",
       "  'teatre_principal'],\n",
       " ['ajuntament', 29, 0, 0, 0, 0, 0, 0, 1, 0, 0, 0, 0, 0],\n",
       " ['castell_cartoixa', 0, 29, 0, 0, 0, 0, 0, 0, 1, 0, 0, 0, 0],\n",
       " ['catedral', 0, 0, 30, 0, 0, 0, 0, 0, 0, 0, 0, 0, 0],\n",
       " ['dona_treballadora', 0, 0, 0, 0, 27, 0, 0, 0, 0, 0, 2, 0, 0],\n",
       " ['escola_enginyeria', 0, 0, 0, 1, 0, 28, 0, 0, 0, 1, 0, 0, 0],\n",
       " ['estacio_nord', 0, 0, 0, 0, 0, 0, 30, 0, 0, 0, 0, 0, 0],\n",
       " ['farmacia_albinyana', 0, 0, 0, 0, 0, 0, 0, 30, 0, 0, 0, 0, 0],\n",
       " ['masia_freixa', 0, 0, 0, 0, 0, 1, 0, 0, 29, 0, 0, 0, 0],\n",
       " ['mercat_independencia', 0, 0, 0, 1, 0, 0, 1, 1, 0, 26, 0, 1, 0],\n",
       " ['mnactec', 0, 0, 0, 1, 0, 0, 0, 0, 0, 0, 28, 0, 1],\n",
       " ['societat_general', 0, 0, 0, 0, 0, 0, 0, 0, 0, 1, 0, 29, 0],\n",
       " ['teatre_principal', 0, 0, 0, 0, 0, 0, 0, 0, 0, 0, 0, 0, 30]]"
      ]
     },
     "execution_count": 33,
     "metadata": {},
     "output_type": "execute_result"
    }
   ],
   "source": [
    "Matrix"
   ]
  },
  {
   "cell_type": "code",
   "execution_count": 34,
   "metadata": {},
   "outputs": [],
   "source": [
    "import csv\n",
    "with open('MatrizConf.csv', 'w', newline='') as myfile:\n",
    "     wr = csv.writer(myfile, delimiter=',')\n",
    "     wr.writerows(Matrix)"
   ]
  },
  {
   "cell_type": "code",
   "execution_count": 35,
   "metadata": {},
   "outputs": [],
   "source": [
    "#Accuracy\n",
    "\n",
    "def accuracy(diction):\n",
    "    nume=0\n",
    "    denom=0\n",
    "    for key,values in sorted(dtot.items()):\n",
    "        for key2, values2 in sorted(dtot[key].items()):\n",
    "            denom+=values2\n",
    "            if key==key2:\n",
    "                nume+=values2\n",
    "    return nume/denom"
   ]
  },
  {
   "cell_type": "code",
   "execution_count": 36,
   "metadata": {},
   "outputs": [
    {
     "data": {
      "text/plain": [
       "0.9610027855153204"
      ]
     },
     "execution_count": 36,
     "metadata": {},
     "output_type": "execute_result"
    }
   ],
   "source": [
    "accuracy(dtot)"
   ]
  },
  {
   "cell_type": "code",
   "execution_count": null,
   "metadata": {},
   "outputs": [],
   "source": []
  }
 ],
 "metadata": {
  "kernelspec": {
   "display_name": "Python 3",
   "language": "python",
   "name": "python3"
  },
  "language_info": {
   "codemirror_mode": {
    "name": "ipython",
    "version": 3
   },
   "file_extension": ".py",
   "mimetype": "text/x-python",
   "name": "python",
   "nbconvert_exporter": "python",
   "pygments_lexer": "ipython3",
   "version": "3.5.3"
  }
 },
 "nbformat": 4,
 "nbformat_minor": 2
}
