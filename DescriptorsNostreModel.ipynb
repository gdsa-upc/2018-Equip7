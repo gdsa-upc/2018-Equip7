{
 "cells": [
  {
   "cell_type": "code",
   "execution_count": 2,
   "metadata": {},
   "outputs": [
    {
     "name": "stderr",
     "output_type": "stream",
     "text": [
      "Using TensorFlow backend.\n"
     ]
    }
   ],
   "source": [
    "from keras.models import load_model\n",
    "base_model = load_model('DenseMod2.h5')"
   ]
  },
  {
   "cell_type": "code",
   "execution_count": 3,
   "metadata": {},
   "outputs": [
    {
     "name": "stdout",
     "output_type": "stream",
     "text": [
      "_________________________________________________________________\n",
      "Layer (type)                 Output Shape              Param #   \n",
      "=================================================================\n",
      "densenet201 (Model)          (None, 4, 4, 1920)        18321984  \n",
      "_________________________________________________________________\n",
      "flatten_1 (Flatten)          (None, 30720)             0         \n",
      "_________________________________________________________________\n",
      "dense_1 (Dense)              (None, 256)               7864576   \n",
      "_________________________________________________________________\n",
      "dense_2 (Dense)              (None, 1)                 257       \n",
      "=================================================================\n",
      "Total params: 26,186,817\n",
      "Trainable params: 14,847,233\n",
      "Non-trainable params: 11,339,584\n",
      "_________________________________________________________________\n"
     ]
    }
   ],
   "source": [
    "base_model.summary()"
   ]
  },
  {
   "cell_type": "code",
   "execution_count": 5,
   "metadata": {},
   "outputs": [],
   "source": [
    "import os\n",
    "import numpy as np\n",
    "from keras.preprocessing import image\n",
    "from keras.models import Model\n",
    "\n",
    "model = Model(inputs=base_model.input, outputs=base_model.get_layer('flatten_1').output)"
   ]
  },
  {
   "cell_type": "code",
   "execution_count": 6,
   "metadata": {},
   "outputs": [],
   "source": [
    "from keras.applications.densenet import preprocess_input\n",
    "\n",
    "database= []\n",
    "\n",
    "path='FotosKaggle'\n",
    "for(path,dirs,files) in os.walk(path):\n",
    "    if path == 'FotosKaggle/database':\n",
    "        for i in range(0,len(files)):\n",
    "            chorro = 'FotosKaggle/database/' + str(files[i])\n",
    "            img_path = chorro\n",
    "            img = image.load_img(img_path, target_size=(150, 150))\n",
    "            x = image.img_to_array(img)\n",
    "            x = np.expand_dims(x, axis=0)\n",
    "            x = preprocess_input(x)\n",
    "            capa = model.predict(x)\n",
    "            database.append(capa[0])\n",
    "            \n",
    "database = np.asarray(database)"
   ]
  },
  {
   "cell_type": "code",
   "execution_count": 7,
   "metadata": {},
   "outputs": [
    {
     "data": {
      "text/plain": [
       "1671"
      ]
     },
     "execution_count": 7,
     "metadata": {},
     "output_type": "execute_result"
    }
   ],
   "source": [
    "len(database)"
   ]
  },
  {
   "cell_type": "code",
   "execution_count": 8,
   "metadata": {},
   "outputs": [],
   "source": [
    "queries = []\n",
    "\n",
    "path='FotosKaggle'\n",
    "for(path,dirs,files) in os.walk(path):\n",
    "    if path == 'FotosKaggle/queries':\n",
    "        for i in range(0,len(files)):\n",
    "            chorro = 'FotosKaggle/queries/' + str(files[i])\n",
    "            img_path = chorro\n",
    "            img = image.load_img(img_path, target_size=(150, 150))\n",
    "            x = image.img_to_array(img)\n",
    "            x = np.expand_dims(x, axis=0)\n",
    "            x = preprocess_input(x)\n",
    "            capa = model.predict(x)\n",
    "            queries.append(capa[0])\n",
    "            \n",
    "queries = np.asarray(queries)"
   ]
  },
  {
   "cell_type": "code",
   "execution_count": 9,
   "metadata": {},
   "outputs": [
    {
     "name": "stdout",
     "output_type": "stream",
     "text": [
      "0.0 1671 1673\n"
     ]
    }
   ],
   "source": [
    "print(database[400][50], len(database), len(queries))"
   ]
  },
  {
   "cell_type": "code",
   "execution_count": 10,
   "metadata": {},
   "outputs": [],
   "source": [
    "import pickle\n",
    "\n",
    "pickle_out_database = open(\"database3.pickle\", \"wb\")\n",
    "pickle.dump(database, pickle_out_database)\n",
    "pickle_out_database.close()\n",
    "\n",
    "pickle_out_queries = open(\"queries3.pickle\", \"wb\")\n",
    "pickle.dump(queries, pickle_out_queries)\n",
    "pickle_out_queries.close()"
   ]
  },
  {
   "cell_type": "code",
   "execution_count": null,
   "metadata": {},
   "outputs": [],
   "source": []
  }
 ],
 "metadata": {
  "kernelspec": {
   "display_name": "Python 3",
   "language": "python",
   "name": "python3"
  },
  "language_info": {
   "codemirror_mode": {
    "name": "ipython",
    "version": 3
   },
   "file_extension": ".py",
   "mimetype": "text/x-python",
   "name": "python",
   "nbconvert_exporter": "python",
   "pygments_lexer": "ipython3",
   "version": "3.5.3"
  }
 },
 "nbformat": 4,
 "nbformat_minor": 2
}
