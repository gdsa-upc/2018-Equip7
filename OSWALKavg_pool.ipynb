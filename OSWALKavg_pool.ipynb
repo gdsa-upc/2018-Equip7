{
 "cells": [
  {
   "cell_type": "code",
   "execution_count": 1,
   "metadata": {},
   "outputs": [
    {
     "name": "stderr",
     "output_type": "stream",
     "text": [
      "Using TensorFlow backend.\n"
     ]
    }
   ],
   "source": [
    "import os\n",
    "import numpy as np\n",
    "from keras.applications.densenet import DenseNet201\n",
    "from keras.preprocessing import image\n",
    "from keras.applications.densenet import preprocess_input\n",
    "from keras.models import Model\n",
    "\n",
    "base_model = DenseNet201(weights='imagenet')\n",
    "model = Model(inputs=base_model.input, outputs=base_model.get_layer('avg_pool').output)"
   ]
  },
  {
   "cell_type": "code",
   "execution_count": 9,
   "metadata": {},
   "outputs": [],
   "source": [
    "test = []\n",
    "\n",
    "path='Fotos'\n",
    "for(path,dirs,files) in os.walk(path):\n",
    "    if path == 'Fotos/test/images': \n",
    "        for i in range(0,len(files)):\n",
    "            chorro = 'Fotos/test/images/' + str(files[i])\n",
    "            img_path = chorro\n",
    "            img = image.load_img(img_path, target_size=(224, 224))\n",
    "            x = image.img_to_array(img)\n",
    "            x = np.expand_dims(x, axis=0)\n",
    "            x = preprocess_input(x)\n",
    "            capa = model.predict(x)\n",
    "            test.append(capa[0])\n",
    "\n",
    "test = np.asarray(test)"
   ]
  },
  {
   "cell_type": "code",
   "execution_count": 12,
   "metadata": {},
   "outputs": [],
   "source": [
    "train = []\n",
    "\n",
    "path='Fotos'\n",
    "for(path,dirs,files) in os.walk(path):\n",
    "    if path == 'Fotos/train/images':\n",
    "        for i in range(0,len(files)):\n",
    "            chorro = 'Fotos/train/images/' + str(files[i])\n",
    "            img_path = chorro\n",
    "            img = image.load_img(img_path, target_size=(224, 224))\n",
    "            x = image.img_to_array(img)\n",
    "            x = np.expand_dims(x, axis=0)\n",
    "            x = preprocess_input(x)\n",
    "            capa = model.predict(x)\n",
    "            train.append(capa[0])\n",
    "            \n",
    "train = np.asarray(train)"
   ]
  },
  {
   "cell_type": "code",
   "execution_count": 13,
   "metadata": {},
   "outputs": [],
   "source": [
    "val = []\n",
    "\n",
    "path='Fotos'\n",
    "for(path,dirs,files) in os.walk(path):\n",
    "    if path == 'Fotos/val/images':\n",
    "        for i in range(0,len(files)):\n",
    "            chorro = 'Fotos/val/images/' + str(files[i])\n",
    "            img_path = chorro\n",
    "            img = image.load_img(img_path, target_size=(224, 224))\n",
    "            x = image.img_to_array(img)\n",
    "            x = np.expand_dims(x, axis=0)\n",
    "            x = preprocess_input(x)\n",
    "            capa = model.predict(x)\n",
    "            val.append(capa[0])\n",
    "            \n",
    "val = np.asarray(val)"
   ]
  },
  {
   "cell_type": "code",
   "execution_count": 14,
   "metadata": {},
   "outputs": [
    {
     "name": "stdout",
     "output_type": "stream",
     "text": [
      "[8.6815970e-05 1.0220790e-03 1.1829892e-03 ... 8.0712897e-01 2.9230243e-01\n",
      " 2.5137040e-01] 477\n"
     ]
    }
   ],
   "source": [
    "print(train[500], len(val))"
   ]
  },
  {
   "cell_type": "code",
   "execution_count": 15,
   "metadata": {},
   "outputs": [],
   "source": [
    "import pickle\n",
    "\n",
    "pickle_out_test = open(\"test.pickle\", \"wb\")\n",
    "pickle.dump(test, pickle_out_test)\n",
    "pickle_out_test.close()"
   ]
  },
  {
   "cell_type": "code",
   "execution_count": 16,
   "metadata": {},
   "outputs": [],
   "source": [
    "pickle_out_train = open(\"train.pickle\", \"wb\")\n",
    "pickle.dump(train, pickle_out_train)\n",
    "pickle_out_train.close()"
   ]
  },
  {
   "cell_type": "code",
   "execution_count": 17,
   "metadata": {},
   "outputs": [],
   "source": [
    "pickle_out_val = open(\"val.pickle\", \"wb\")\n",
    "pickle.dump(val, pickle_out_val)\n",
    "pickle_out_val.close()"
   ]
  },
  {
   "cell_type": "code",
   "execution_count": null,
   "metadata": {},
   "outputs": [],
   "source": []
  }
 ],
 "metadata": {
  "kernelspec": {
   "display_name": "Python 3",
   "language": "python",
   "name": "python3"
  },
  "language_info": {
   "codemirror_mode": {
    "name": "ipython",
    "version": 3
   },
   "file_extension": ".py",
   "mimetype": "text/x-python",
   "name": "python",
   "nbconvert_exporter": "python",
   "pygments_lexer": "ipython3",
   "version": "3.5.3"
  }
 },
 "nbformat": 4,
 "nbformat_minor": 2
}
